{
 "cells": [
  {
   "cell_type": "code",
   "execution_count": 18,
   "id": "0fd2369b-4a14-4687-a567-a99b63b5306b",
   "metadata": {},
   "outputs": [],
   "source": [
    "#Q.1\n",
    "class vehicle:\n",
    "    def __init__(self,name_of_vehicle,max_speed,average_of_vehicle):\n",
    "        self.name_of_vehicle=name_of_vehicle\n",
    "        self.max_speed=max_speed\n",
    "        self.average_of_vehicle=average_of_vehicle\n",
    "        "
   ]
  },
  {
   "cell_type": "code",
   "execution_count": 21,
   "id": "1558b398-7c90-4d5c-8bad-060df1415c2f",
   "metadata": {},
   "outputs": [],
   "source": [
    "car=vehicle(\"toyota\",190,23)"
   ]
  },
  {
   "cell_type": "code",
   "execution_count": 23,
   "id": "aef69cd9-a478-4e31-81d3-944c3c99fca4",
   "metadata": {},
   "outputs": [
    {
     "data": {
      "text/plain": [
       "'toyota'"
      ]
     },
     "execution_count": 23,
     "metadata": {},
     "output_type": "execute_result"
    }
   ],
   "source": [
    "car.name_of_vehicle"
   ]
  },
  {
   "cell_type": "code",
   "execution_count": 24,
   "id": "5fe252b3-3afa-4802-a776-447326d43d6a",
   "metadata": {},
   "outputs": [
    {
     "data": {
      "text/plain": [
       "190"
      ]
     },
     "execution_count": 24,
     "metadata": {},
     "output_type": "execute_result"
    }
   ],
   "source": [
    "car.max_speed"
   ]
  },
  {
   "cell_type": "code",
   "execution_count": 25,
   "id": "44603994-ca46-4f9d-accf-c638b5aa3a2f",
   "metadata": {},
   "outputs": [
    {
     "data": {
      "text/plain": [
       "23"
      ]
     },
     "execution_count": 25,
     "metadata": {},
     "output_type": "execute_result"
    }
   ],
   "source": [
    "car.average_of_vehicle"
   ]
  },
  {
   "cell_type": "code",
   "execution_count": 31,
   "id": "535041e9-0ad7-4d45-b452-9d580efeff1f",
   "metadata": {},
   "outputs": [],
   "source": [
    "#Q.2\n",
    "class Vehicle:\n",
    "    def __init__(self, make, model, year):\n",
    "        self.make = make\n",
    "        self.model = model\n",
    "        self.year = year\n",
    "\n",
    "    def get_info(self):\n",
    "        return f\"{self.year} {self.make} {self.model}\"\n",
    "\n",
    "\n",
    "class Car(Vehicle):\n",
    "    def seating_capacity(self, capacity):\n",
    "        return f\"{self.get_info()} has a seating capacity of {capacity} people.\"\n"
   ]
  },
  {
   "cell_type": "code",
   "execution_count": 32,
   "id": "22d6636c-972c-44d0-9e83-158add6af631",
   "metadata": {},
   "outputs": [
    {
     "name": "stdout",
     "output_type": "stream",
     "text": [
      "2020 Toyota Corolla has a seating capacity of 5 people.\n"
     ]
    }
   ],
   "source": [
    "my_car = Car(\"Toyota\", \"Corolla\", 2020)\n",
    "print(my_car.seating_capacity(5))"
   ]
  },
  {
   "cell_type": "code",
   "execution_count": 33,
   "id": "7a2481f9-ad6a-4b6a-8a4f-df186deef5a8",
   "metadata": {},
   "outputs": [],
   "source": [
    "#Q.3Multiple inheritance is a feature in object-oriented programming where a subclass can inherit properties and methods from multiple parent classes. This allows for more flexible and modular code design.\n",
    "class class1:\n",
    "    def test_class1(self):\n",
    "        return \"this is my class1\""
   ]
  },
  {
   "cell_type": "code",
   "execution_count": 34,
   "id": "9d959b1c-3aae-4566-b148-27ba7e0a5c3b",
   "metadata": {},
   "outputs": [],
   "source": [
    "class class2:\n",
    "    def test_class2(self):\n",
    "        return \"thsi is class2\""
   ]
  },
  {
   "cell_type": "code",
   "execution_count": 35,
   "id": "5b6db318-6a11-4c80-ad45-cfb20fff9f64",
   "metadata": {},
   "outputs": [],
   "source": [
    "class class3(class1,class2):\n",
    "    pass"
   ]
  },
  {
   "cell_type": "code",
   "execution_count": 36,
   "id": "c64522ef-e664-44ba-bf34-0f0f6759a8d0",
   "metadata": {},
   "outputs": [
    {
     "data": {
      "text/plain": [
       "'this is my class1'"
      ]
     },
     "execution_count": 36,
     "metadata": {},
     "output_type": "execute_result"
    }
   ],
   "source": [
    "ob=class3()\n",
    "ob.test_class1()"
   ]
  },
  {
   "cell_type": "code",
   "execution_count": 37,
   "id": "83b34169-07d4-4fd4-a2f7-93941e2a65c8",
   "metadata": {},
   "outputs": [
    {
     "data": {
      "text/plain": [
       "'thsi is class2'"
      ]
     },
     "execution_count": 37,
     "metadata": {},
     "output_type": "execute_result"
    }
   ],
   "source": [
    "ob.test_class2()"
   ]
  },
  {
   "cell_type": "code",
   "execution_count": 38,
   "id": "9ef264f8-0496-4c6c-bb6f-57aa761d44aa",
   "metadata": {},
   "outputs": [],
   "source": [
    "#Q.4In Python, getters and setters are methods that allow us to access and modify the values of an object's attributes. Getters and setters provide a level of abstraction and encapsulation that can help us to control access to an object's data and ensure that it is used correctly.\n",
    "class Person:\n",
    "    def __init__(self, name):\n",
    "        self._name = name\n",
    "\n",
    "    def get_name(self):\n",
    "        return self._name\n",
    "\n",
    "    def set_name(self, name):\n",
    "        self._name = name\n"
   ]
  },
  {
   "cell_type": "code",
   "execution_count": 40,
   "id": "a60a9f6e-1b85-4cf5-8fd3-fd4ccb246d4f",
   "metadata": {},
   "outputs": [
    {
     "name": "stdout",
     "output_type": "stream",
     "text": [
      "SRK\n",
      "PATHAAN\n"
     ]
    }
   ],
   "source": [
    "person = Person(\"SRK\")\n",
    "print(person.get_name())\n",
    "person.set_name(\"PATHAAN\")\n",
    "print(person.get_name())\n"
   ]
  },
  {
   "cell_type": "code",
   "execution_count": 41,
   "id": "877cf38f-3b98-40ed-98f7-2e63686548d4",
   "metadata": {},
   "outputs": [
    {
     "name": "stdout",
     "output_type": "stream",
     "text": [
      "Driving a car\n"
     ]
    }
   ],
   "source": [
    "#Q.5 Method overriding is a feature in object-oriented programming where a subclass can provide its own implementation of a method that is already defined in its parent class. When a method is overridden in this way, the subclass's implementation is used instead of the parent class's implementation when the method is called on instances of the subclass.\n",
    "\n",
    "class Vehicle:\n",
    "    def drive(self):\n",
    "        print(\"Driving a vehicle\")\n",
    "\n",
    "\n",
    "class Car(Vehicle):\n",
    "    def drive(self):\n",
    "        print(\"Driving a car\")\n",
    "\n",
    "\n",
    "my_car = Car()\n",
    "my_car.drive()\n"
   ]
  },
  {
   "cell_type": "code",
   "execution_count": null,
   "id": "431a02f6-0365-4f70-9219-17eff17d618f",
   "metadata": {},
   "outputs": [],
   "source": []
  }
 ],
 "metadata": {
  "kernelspec": {
   "display_name": "Python 3 (ipykernel)",
   "language": "python",
   "name": "python3"
  },
  "language_info": {
   "codemirror_mode": {
    "name": "ipython",
    "version": 3
   },
   "file_extension": ".py",
   "mimetype": "text/x-python",
   "name": "python",
   "nbconvert_exporter": "python",
   "pygments_lexer": "ipython3",
   "version": "3.10.8"
  }
 },
 "nbformat": 4,
 "nbformat_minor": 5
}
