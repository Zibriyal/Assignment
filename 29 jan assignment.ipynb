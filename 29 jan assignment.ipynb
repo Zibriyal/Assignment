{
 "cells": [
  {
   "cell_type": "code",
   "execution_count": 1,
   "id": "ad51c475-007a-4b88-b0e7-b72d063655b0",
   "metadata": {},
   "outputs": [],
   "source": [
    "#1.Guido van Rossum"
   ]
  },
  {
   "cell_type": "code",
   "execution_count": 2,
   "id": "286e440b-fb6d-46c9-b4be-d07b63a97a21",
   "metadata": {},
   "outputs": [],
   "source": [
    "#2. Object-oriented programming and structured programming"
   ]
  },
  {
   "cell_type": "code",
   "execution_count": 3,
   "id": "06c44711-716c-414f-936f-8a1a5a251d26",
   "metadata": {},
   "outputs": [],
   "source": [
    "#3.Yes, Python is a case-sensitive language"
   ]
  },
  {
   "cell_type": "code",
   "execution_count": 4,
   "id": "7c767d8c-4f4a-4afa-bc23-423ffe55547c",
   "metadata": {},
   "outputs": [],
   "source": [
    "#4.    .py"
   ]
  },
  {
   "cell_type": "code",
   "execution_count": 5,
   "id": "a69f6629-8d9b-46a6-9b9f-6255ad331b20",
   "metadata": {},
   "outputs": [],
   "source": [
    "#5.Python is an interpreted language"
   ]
  },
  {
   "cell_type": "code",
   "execution_count": 6,
   "id": "35e06a4c-fb89-4aea-a673-fce977b2bbc3",
   "metadata": {},
   "outputs": [],
   "source": [
    "#6.a module, a function body, and a class definition"
   ]
  },
  {
   "cell_type": "code",
   "execution_count": 7,
   "id": "fb9f5087-ef1c-43a9-99d1-32ed43c61f65",
   "metadata": {},
   "outputs": [],
   "source": [
    "#7.We can write a single-line comment by adding a single # character before any statement or line of code.\n"
   ]
  },
  {
   "cell_type": "code",
   "execution_count": 8,
   "id": "c9a19a19-1006-45cb-8e6c-6b73d910f59f",
   "metadata": {},
   "outputs": [],
   "source": [
    "#8.sys. version"
   ]
  },
  {
   "cell_type": "code",
   "execution_count": 9,
   "id": "c925ccbb-26bb-4f09-8221-679a188476eb",
   "metadata": {},
   "outputs": [],
   "source": [
    "#9.\"lambda\""
   ]
  },
  {
   "cell_type": "code",
   "execution_count": 10,
   "id": "0049465b-74b5-4802-9f96-5bb75dd3a6ee",
   "metadata": {},
   "outputs": [],
   "source": [
    "#10.preferred installer program"
   ]
  },
  {
   "cell_type": "code",
   "execution_count": 13,
   "id": "9498ab00-e80d-4465-8bd3-1a5492f647d5",
   "metadata": {},
   "outputs": [],
   "source": [
    "#11.print( ) function,type( ) function,input( ) function,abs( ) function,pow( ) function,dir( ) function\n",
    "#sorted( ) function,max( ) function,round( ) function,divmod( ) function,id( ) function,ord( ) function,len( ) function,sum( ) function,help( ) function\n"
   ]
  },
  {
   "cell_type": "code",
   "execution_count": 14,
   "id": "bd5d385f-0df3-4f33-aa57-9009bcc93fa6",
   "metadata": {},
   "outputs": [],
   "source": [
    "#12.An identifier can have a maximum length of 79 characters in Python.\n"
   ]
  },
  {
   "cell_type": "code",
   "execution_count": 16,
   "id": "e92460b9-2e92-4020-a2f6-6c56eebb633e",
   "metadata": {},
   "outputs": [],
   "source": [
    "#13.Third-Party Modules,Presence of Libraries,Open Source and free,Huge Support Community,Easy to learn,User-Friendly data structures,Speed.\n"
   ]
  },
  {
   "cell_type": "code",
   "execution_count": 17,
   "id": "88221dfd-3af2-4457-a3c4-46547e647248",
   "metadata": {},
   "outputs": [],
   "source": [
    "#14.Memory management in Python involves a private heap containing all Python objects and data structures. The management of this private heap is ensured internally by the Python memory manager.\n"
   ]
  },
  {
   "cell_type": "code",
   "execution_count": 18,
   "id": "8d95cd73-43df-41f2-ba39-fde1646a96be",
   "metadata": {},
   "outputs": [],
   "source": [
    "#15.The complete path of python.exe can be added by:\n",
    "\n",
    "#Right-clicking This PC and going to Properties.\n",
    "\n",
    "#Clicking on the Advanced system settings in the menu on the left.\n",
    "\n",
    "#Clicking on the Environment Variables button o​n the bottom right.\n",
    "\n",
    "#In the System variables section, selecting the Path variable and clicking on Edit. The next screen will show all the directories that are currently a part of the PATH variable.\n",
    "\n",
    "#Clicking on New and entering Python’s install directory."
   ]
  },
  {
   "cell_type": "code",
   "execution_count": null,
   "id": "6471c9ba-b6d6-4d86-b256-4c7920eb3719",
   "metadata": {},
   "outputs": [],
   "source": [
    "#16.Indentation refers to the spaces at the beginning of a code line. Where in other programming languages the indentation in code is for readability only, the indentation in Python is very important. Python uses indentation to indicate a block of code.\n"
   ]
  },
  {
   "cell_type": "code",
   "execution_count": null,
   "id": "b8c2ea7d-3c43-4d29-9424-2d310a721bf8",
   "metadata": {},
   "outputs": [],
   "source": []
  }
 ],
 "metadata": {
  "kernelspec": {
   "display_name": "Python 3 (ipykernel)",
   "language": "python",
   "name": "python3"
  },
  "language_info": {
   "codemirror_mode": {
    "name": "ipython",
    "version": 3
   },
   "file_extension": ".py",
   "mimetype": "text/x-python",
   "name": "python",
   "nbconvert_exporter": "python",
   "pygments_lexer": "ipython3",
   "version": "3.10.8"
  }
 },
 "nbformat": 4,
 "nbformat_minor": 5
}
