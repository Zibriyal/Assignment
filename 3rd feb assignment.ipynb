{
 "cells": [
  {
   "cell_type": "code",
   "execution_count": 1,
   "id": "c5eb9494-d598-4f3a-b82b-46350ee92cd4",
   "metadata": {},
   "outputs": [],
   "source": [
    "#Q.1 The def keyword is used to create, (or define) a function.\n",
    "def get_odd_numbers():\n",
    "    odd_numbers = []\n",
    "    for i in range(1, 26):\n",
    "        if i % 2 != 0:\n",
    "            odd_numbers.append(i)\n",
    "    return odd_numbers\n"
   ]
  },
  {
   "cell_type": "code",
   "execution_count": 3,
   "id": "88d0bf63-0a30-42a4-ae33-429951084fe5",
   "metadata": {},
   "outputs": [
    {
     "data": {
      "text/plain": [
       "[1, 3, 5, 7, 9, 11, 13, 15, 17, 19, 21, 23, 25]"
      ]
     },
     "execution_count": 3,
     "metadata": {},
     "output_type": "execute_result"
    }
   ],
   "source": [
    "get_odd_numbers()"
   ]
  },
  {
   "cell_type": "code",
   "execution_count": 6,
   "id": "23d7f1f0-b724-4bb0-892b-0af4a755a710",
   "metadata": {},
   "outputs": [],
   "source": [
    "#Q.2*args is used to pass a variable number of non-keyworded arguments to a function. It allows you to pass any number of arguments to a function, without knowing in advance how many arguments will be passed.\n",
    "def test(*args):\n",
    "    return args"
   ]
  },
  {
   "cell_type": "code",
   "execution_count": 7,
   "id": "4e1ff8c1-9ce1-4e02-af45-a07f9c41b611",
   "metadata": {},
   "outputs": [
    {
     "data": {
      "text/plain": [
       "(1, 2, 3, 4, 'india', [1, 2, 3, 4, 5], 23.5)"
      ]
     },
     "execution_count": 7,
     "metadata": {},
     "output_type": "execute_result"
    }
   ],
   "source": [
    "test(1,2,3,4,'india',[1,2,3,4,5],23.5)"
   ]
  },
  {
   "cell_type": "code",
   "execution_count": 8,
   "id": "5802b419-d400-41e9-b212-1231a96e40da",
   "metadata": {},
   "outputs": [],
   "source": [
    "#Q.2**kwargs is used to pass a variable number of keyworded arguments to a function. It allows you to pass any number of keyword arguments to a function, without knowing in advance which arguments will be passed or how many.\n",
    "def test1(**kwargs):\n",
    "    return kwargs"
   ]
  },
  {
   "cell_type": "code",
   "execution_count": 9,
   "id": "85eb4e79-f64d-4dbe-a021-16508d777806",
   "metadata": {},
   "outputs": [
    {
     "data": {
      "text/plain": [
       "{'a': [1, 2, 3, 4], 'b': 'pwskills', 'c': 236.5}"
      ]
     },
     "execution_count": 9,
     "metadata": {},
     "output_type": "execute_result"
    }
   ],
   "source": [
    "test1(a=[1,2,3,4],b='pwskills',c=236.5)"
   ]
  },
  {
   "cell_type": "code",
   "execution_count": 10,
   "id": "7a5b107f-dff9-4e7c-8100-646661af54ab",
   "metadata": {},
   "outputs": [
    {
     "name": "stdout",
     "output_type": "stream",
     "text": [
      "2\n",
      "4\n",
      "6\n",
      "8\n",
      "10\n"
     ]
    }
   ],
   "source": [
    "#Q,3Iterator in Python is an object that is used to iterate over iterable objects like lists, tuples, dicts, and sets. The iterator object is initialized using the iter() method. It uses the next() method for iteration.\n",
    "\n",
    "#1)__iter__(): The iter() method is called for the initialization of an iterator. This returns an iterator object\n",
    "#2)__next__(): The next method returns the next value for the iterable. When we use a for loop to traverse any iterable object, internally it uses the iter() method to get an iterator object, which further uses the next() method to iterate over. This method raises a StopIteration to signal the end of the iteration.\n",
    "l= [2, 4, 6, 8, 10, 12, 14, 16, 18, 20]\n",
    "\n",
    "iterator = iter(l)\n",
    "for i in range(5):\n",
    "    print(next(iterator))\n"
   ]
  },
  {
   "cell_type": "code",
   "execution_count": 15,
   "id": "bdeed991-2459-45b3-9625-b8ec387915b0",
   "metadata": {},
   "outputs": [
    {
     "name": "stdout",
     "output_type": "stream",
     "text": [
      "0\n",
      "2\n",
      "4\n",
      "6\n",
      "8\n"
     ]
    }
   ],
   "source": [
    "#Q.4 A generator function in Python is a type of function that returns an iterator object that can be used to iterate over a sequence of values. It allows you to generate a sequence of values on-the-fly, instead of generating them all at once and storing them in memory like a list.\n",
    "\n",
    "# Generator functions are defined using the yield keyword instead of return. When the yield keyword is encountered in a generator function, it suspends the function's execution and sends a value back to the caller, but retains its state so that it can be resumed later. When the generator function is resumed, execution continues from where it left off until another yield statement is encountered, and the process repeats.\n",
    "def generate_evens(n):\n",
    "    i = 0\n",
    "    while i < n:\n",
    "        yield 2*i\n",
    "        i += 1\n",
    "even_gen = generate_evens(5)\n",
    "for num in even_gen:\n",
    "    print(num)\n"
   ]
  },
  {
   "cell_type": "code",
   "execution_count": 18,
   "id": "f534568b-7777-47eb-9dd5-7af836ea5325",
   "metadata": {},
   "outputs": [
    {
     "name": "stdout",
     "output_type": "stream",
     "text": [
      "2\n",
      "3\n",
      "5\n",
      "7\n",
      "11\n",
      "13\n",
      "17\n",
      "19\n",
      "23\n",
      "29\n",
      "31\n",
      "37\n",
      "41\n",
      "43\n",
      "47\n",
      "53\n",
      "59\n",
      "61\n",
      "67\n",
      "71\n"
     ]
    }
   ],
   "source": [
    "#Q.5 \n",
    "def generate_primes():\n",
    "    num = 2\n",
    "    while num < 1000:\n",
    "        for i in range(2, num):\n",
    "            if num % i == 0:\n",
    "                break\n",
    "        else:\n",
    "            yield num\n",
    "        num += 1\n",
    "prime_gen = generate_primes()\n",
    "for i in range(20):\n",
    "    print(next(prime_gen))\n"
   ]
  },
  {
   "cell_type": "code",
   "execution_count": 19,
   "id": "26e2fecf-3430-4baf-969b-21914fbc4142",
   "metadata": {},
   "outputs": [
    {
     "name": "stdin",
     "output_type": "stream",
     "text": [
      "enter the number of element you are looking for  10\n"
     ]
    },
    {
     "name": "stdout",
     "output_type": "stream",
     "text": [
      "0\n",
      "1\n",
      "1\n",
      "2\n",
      "3\n",
      "5\n",
      "8\n",
      "13\n",
      "21\n",
      "34\n"
     ]
    }
   ],
   "source": [
    "#Q.6 a python program to print the first 10 Fibonacci numbers using a while loop.\n",
    "number = int(input(\"enter the number of element you are looking for \"))\n",
    "a , b  = 0 , 1 \n",
    "counter = 0 \n",
    "while counter < number : \n",
    "    print(a)\n",
    "    c = a+ b\n",
    "    a = b \n",
    "    b = c \n",
    "    counter= counter+ 1"
   ]
  },
  {
   "cell_type": "code",
   "execution_count": 24,
   "id": "7f633f13-f4b3-4348-9d8b-5fc8dea80d7f",
   "metadata": {},
   "outputs": [
    {
     "name": "stdout",
     "output_type": "stream",
     "text": [
      "['p', 'w', 's', 'k', 'i', 'l', 'l', 's']\n"
     ]
    }
   ],
   "source": [
    "#Q.7\n",
    "s = 'pwskills'\n",
    "c= [i for i in s]\n",
    "print(c)\n"
   ]
  },
  {
   "cell_type": "code",
   "execution_count": 25,
   "id": "de7a199c-fc87-46fc-93ab-7080d06819b3",
   "metadata": {},
   "outputs": [
    {
     "name": "stdin",
     "output_type": "stream",
     "text": [
      "Enter a number: 121\n"
     ]
    },
    {
     "name": "stdout",
     "output_type": "stream",
     "text": [
      "The number is palindrome!\n"
     ]
    }
   ],
   "source": [
    "#Q.8\n",
    "num=int(input(\"Enter a number:\"))\n",
    "temp=num\n",
    "rev=0\n",
    "while(num>0):\n",
    "    dig=num%10\n",
    "    rev=rev*10+dig\n",
    "    num=num//10\n",
    "if(temp==rev):\n",
    "    print(\"The number is palindrome!\")\n",
    "else:\n",
    "    print(\"Not a palindrome!\")"
   ]
  },
  {
   "cell_type": "code",
   "execution_count": 26,
   "id": "8e3aec2d-46bc-41f6-bc01-c3fbb98c869c",
   "metadata": {},
   "outputs": [
    {
     "name": "stdout",
     "output_type": "stream",
     "text": [
      "[1, 3, 5, 7, 9, 11, 13, 15, 17, 19, 21, 23, 25, 27, 29, 31, 33, 35, 37, 39, 41, 43, 45, 47, 49, 51, 53, 55, 57, 59, 61, 63, 65, 67, 69, 71, 73, 75, 77, 79, 81, 83, 85, 87, 89, 91, 93, 95, 97, 99]\n"
     ]
    }
   ],
   "source": [
    "#Q.9\n",
    "nums = [num for num in range(1, 101)]\n",
    "\n",
    "odd_nums = [num for num in nums if num % 2 != 0]\n",
    "print(odd_nums)\n"
   ]
  },
  {
   "cell_type": "code",
   "execution_count": null,
   "id": "22ff65c8-2ce4-40b0-a8f1-4530090998fc",
   "metadata": {},
   "outputs": [],
   "source": []
  }
 ],
 "metadata": {
  "kernelspec": {
   "display_name": "Python 3 (ipykernel)",
   "language": "python",
   "name": "python3"
  },
  "language_info": {
   "codemirror_mode": {
    "name": "ipython",
    "version": 3
   },
   "file_extension": ".py",
   "mimetype": "text/x-python",
   "name": "python",
   "nbconvert_exporter": "python",
   "pygments_lexer": "ipython3",
   "version": "3.10.8"
  }
 },
 "nbformat": 4,
 "nbformat_minor": 5
}
