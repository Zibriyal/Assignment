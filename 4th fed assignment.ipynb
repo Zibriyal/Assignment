{
 "cells": [
  {
   "cell_type": "code",
   "execution_count": null,
   "id": "21d6f110-d97b-466c-aff4-6ff67c68dc73",
   "metadata": {},
   "outputs": [],
   "source": [
    "#Q.1\n",
    "l1=[('Sachin Tendulkar', 34357), ('Ricky Ponting', 27483), ('Jack Kallis', 25534), ('Virat Kohli', 24936)]"
   ]
  },
  {
   "cell_type": "code",
   "execution_count": 11,
   "id": "2c3e02cd-ac1f-4065-96a5-9bfc84514533",
   "metadata": {},
   "outputs": [
    {
     "name": "stdout",
     "output_type": "stream",
     "text": [
      "[('Virat Kohli', 24936), ('Jack Kallis', 25534), ('Ricky Ponting', 27483), ('Sachin Tendulkar', 34357)]\n"
     ]
    }
   ],
   "source": [
    "sort=sorted(l1,key=lambda x : x[1])\n",
    "print(sort)"
   ]
  },
  {
   "cell_type": "code",
   "execution_count": null,
   "id": "71cd8733-8f26-4d27-b3d4-5582e3f77c73",
   "metadata": {},
   "outputs": [],
   "source": [
    "#Q.2squares of all the numbers in the given list of integers usinglambda and map functions.\n",
    "\n",
    "l=[1, 2, 3, 4, 5, 6, 7, 8, 9, 10]"
   ]
  },
  {
   "cell_type": "code",
   "execution_count": null,
   "id": "134d84b9-2393-4c68-a1c0-398610070653",
   "metadata": {},
   "outputs": [
    {
     "data": {
      "text/plain": [
       "[1, 4, 9, 16, 25, 36, 49, 64, 81, 100]"
      ]
     },
     "execution_count": 3,
     "metadata": {},
     "output_type": "execute_result"
    }
   ],
   "source": [
    "list(map(lambda x : x**2,l))"
   ]
  },
  {
   "cell_type": "code",
   "execution_count": 13,
   "id": "e125de2e-828c-4e93-ab75-80d07cbf6011",
   "metadata": {},
   "outputs": [],
   "source": [
    "#Q.3\n",
    "s=[1, 2, 3, 4, 5, 6, 7, 8, 9, 10]"
   ]
  },
  {
   "cell_type": "code",
   "execution_count": 16,
   "id": "1708b2f9-2697-4f84-9174-36280298d4f5",
   "metadata": {},
   "outputs": [
    {
     "data": {
      "text/plain": [
       "('1', '2', '3', '4', '5', '6', '7', '8', '9', '10')"
      ]
     },
     "execution_count": 16,
     "metadata": {},
     "output_type": "execute_result"
    }
   ],
   "source": [
    "tuple(map(lambda x: str(x) ,s))"
   ]
  },
  {
   "cell_type": "code",
   "execution_count": 21,
   "id": "f6d5b346-0762-43e3-9996-7da6a410438c",
   "metadata": {},
   "outputs": [],
   "source": [
    "#Q.4\n",
    "l=list(range(1,26))"
   ]
  },
  {
   "cell_type": "code",
   "execution_count": 22,
   "id": "a259b8f9-1f07-4598-88e1-15ed9086b77e",
   "metadata": {},
   "outputs": [
    {
     "data": {
      "text/plain": [
       "[1,\n",
       " 2,\n",
       " 3,\n",
       " 4,\n",
       " 5,\n",
       " 6,\n",
       " 7,\n",
       " 8,\n",
       " 9,\n",
       " 10,\n",
       " 11,\n",
       " 12,\n",
       " 13,\n",
       " 14,\n",
       " 15,\n",
       " 16,\n",
       " 17,\n",
       " 18,\n",
       " 19,\n",
       " 20,\n",
       " 21,\n",
       " 22,\n",
       " 23,\n",
       " 24,\n",
       " 25]"
      ]
     },
     "execution_count": 22,
     "metadata": {},
     "output_type": "execute_result"
    }
   ],
   "source": [
    "l"
   ]
  },
  {
   "cell_type": "code",
   "execution_count": 26,
   "id": "781e4efb-deb9-4443-908a-22b3f2fa62bf",
   "metadata": {},
   "outputs": [],
   "source": [
    "from functools import reduce"
   ]
  },
  {
   "cell_type": "code",
   "execution_count": 27,
   "id": "52449a63-482c-4684-9d7f-bc5ead6b40c3",
   "metadata": {},
   "outputs": [],
   "source": [
    "l=list(range(1,26))"
   ]
  },
  {
   "cell_type": "code",
   "execution_count": 28,
   "id": "8c4fabeb-ebb9-4e5e-97f3-66731506b680",
   "metadata": {},
   "outputs": [
    {
     "data": {
      "text/plain": [
       "15511210043330985984000000"
      ]
     },
     "execution_count": 28,
     "metadata": {},
     "output_type": "execute_result"
    }
   ],
   "source": [
    "reduce(lambda x,y : x*y,l)"
   ]
  },
  {
   "cell_type": "code",
   "execution_count": 29,
   "id": "b25c59eb-65ca-4107-a104-e6d56e9bb6fc",
   "metadata": {},
   "outputs": [],
   "source": [
    "#Q.5\n",
    "l2=[2, 3, 6, 9, 27, 60, 90, 120, 55, 46]"
   ]
  },
  {
   "cell_type": "code",
   "execution_count": 36,
   "id": "13155174-b031-4fd8-869f-31343205e8e3",
   "metadata": {},
   "outputs": [],
   "source": [
    "FD=list(filter(lambda x : x%2==0 and x%3==0,l2))"
   ]
  },
  {
   "cell_type": "code",
   "execution_count": 37,
   "id": "ec5b3832-d46a-4a46-9903-c779d5550de9",
   "metadata": {},
   "outputs": [
    {
     "name": "stdout",
     "output_type": "stream",
     "text": [
      "[6, 60, 90, 120]\n"
     ]
    }
   ],
   "source": [
    "print(FD)"
   ]
  },
  {
   "cell_type": "code",
   "execution_count": 38,
   "id": "dfa8c97b-3db8-4989-b74c-0ffa1a517566",
   "metadata": {},
   "outputs": [
    {
     "name": "stdout",
     "output_type": "stream",
     "text": [
      "['php', 'aba', 'radar', 'level']\n"
     ]
    }
   ],
   "source": [
    "#Q.6\n",
    "data = ['python', 'php', 'aba', 'radar', 'level']\n",
    "\n",
    "palindromes = list(filter(lambda x: x == x[::-1], data))\n",
    "\n",
    "print(palindromes)"
   ]
  },
  {
   "cell_type": "code",
   "execution_count": null,
   "id": "d770a8e6-3b10-4c66-9716-a5456aeb7ff3",
   "metadata": {},
   "outputs": [],
   "source": []
  }
 ],
 "metadata": {
  "kernelspec": {
   "display_name": "Python 3 (ipykernel)",
   "language": "python",
   "name": "python3"
  },
  "language_info": {
   "codemirror_mode": {
    "name": "ipython",
    "version": 3
   },
   "file_extension": ".py",
   "mimetype": "text/x-python",
   "name": "python",
   "nbconvert_exporter": "python",
   "pygments_lexer": "ipython3",
   "version": "3.10.8"
  }
 },
 "nbformat": 4,
 "nbformat_minor": 5
}
