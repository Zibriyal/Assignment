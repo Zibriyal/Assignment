{
 "cells": [
  {
   "cell_type": "code",
   "execution_count": 1,
   "id": "6067e652",
   "metadata": {},
   "outputs": [
    {
     "name": "stdout",
     "output_type": "stream",
     "text": [
      "Enter your password: (Pw$K1ll$)\n",
      "Valid Password\n"
     ]
    }
   ],
   "source": [
    "def check_password(password):\n",
    "    # Check length\n",
    "    if len(password) != 10:\n",
    "        return \"Invalid Password: Password must be 10 characters long\"\n",
    "\n",
    "    # Check uppercase and lowercase letters\n",
    "    upper_count = sum(1 for char in password if char.isupper())\n",
    "    lower_count = sum(1 for char in password if char.islower())\n",
    "\n",
    "    if upper_count < 2 or lower_count < 2:\n",
    "        return \"Invalid Password: Include at least two uppercase and two lowercase letters\"\n",
    "\n",
    "    # Check at least one number and three special characters\n",
    "    if not any(char.isdigit() for char in password) or sum(1 for char in password if char in '!@#$%^&*()-_+=') < 3:\n",
    "        return \"Invalid Password: Include at least one number and three special characters\"\n",
    "\n",
    "    return \"Valid Password\"\n",
    "\n",
    "# Example usage:\n",
    "password_input = input(\"Enter your password: \")\n",
    "result = check_password(password_input)\n",
    "print(result)\n"
   ]
  },
  {
   "cell_type": "code",
   "execution_count": 4,
   "id": "0d421589",
   "metadata": {},
   "outputs": [
    {
     "name": "stdout",
     "output_type": "stream",
     "text": [
      "True\n",
      "True\n",
      "[('orange', 80), ('mango', 99), ('grapes', 1000)]\n",
      "[1, 4, 9, 16, 25, 36, 49, 64, 81, 100]\n",
      "[1.0, 1.2599210498948732, 1.4422495703074083, 1.5874010519681994, 1.7099759466766968, 1.8171205928321397, 1.912931182772389, 2.0, 2.080083823051904, 2.154434690031884]\n",
      "True\n",
      "[1, 3, 5, 7, 9]\n",
      "Sorted Positive Integers: [3, 4, 6, 7]\n",
      "Sorted Negative Integers: [-8, -5, -2, -1]\n"
     ]
    }
   ],
   "source": [
    "#1\n",
    "starts_with_letter = lambda string, letter: string.startswith(letter)\n",
    "print(starts_with_letter(\"apple\", \"a\"))  # Output: True\n",
    "\n",
    "#2\n",
    "is_numeric = lambda string: string.isnumeric()\n",
    "print(is_numeric(\"123\"))  # Output: True\n",
    "\n",
    "#3\n",
    "fruits = [(\"mango\", 99), (\"orange\", 80), (\"grapes\", 1000)]\n",
    "sorted_fruits = sorted(fruits, key=lambda x: x[1])\n",
    "print(sorted_fruits)\n",
    "\n",
    "#4\n",
    "squares = list(map(lambda x: x**2, range(1, 11)))\n",
    "print(squares)\n",
    "\n",
    "#5\n",
    "import math\n",
    "cube_roots = list(map(lambda x: math.pow(x, 1/3), range(1, 11)))\n",
    "print(cube_roots)\n",
    "\n",
    "#6\n",
    "is_even = lambda x: x % 2 == 0\n",
    "print(is_even(4))  # Output: True\n",
    "\n",
    "#7\n",
    "numbers = [1, 2, 3, 4, 5, 6, 7, 8, 9, 10]\n",
    "odd_numbers = list(filter(lambda x: x % 2 != 0, numbers))\n",
    "print(odd_numbers)\n",
    "\n",
    "#8\n",
    "integers = [3, -1, 4, -2, 7, -5, 0, 6, -8]\n",
    "sorted_positive = sorted(filter(lambda x: x > 0, integers))\n",
    "sorted_negative = sorted(filter(lambda x: x < 0, integers))\n",
    "print(\"Sorted Positive Integers:\", sorted_positive)\n",
    "print(\"Sorted Negative Integers:\", sorted_negative)\n"
   ]
  },
  {
   "cell_type": "code",
   "execution_count": null,
   "id": "3a910e5b",
   "metadata": {},
   "outputs": [],
   "source": []
  }
 ],
 "metadata": {
  "kernelspec": {
   "display_name": "Python 3 (ipykernel)",
   "language": "python",
   "name": "python3"
  },
  "language_info": {
   "codemirror_mode": {
    "name": "ipython",
    "version": 3
   },
   "file_extension": ".py",
   "mimetype": "text/x-python",
   "name": "python",
   "nbconvert_exporter": "python",
   "pygments_lexer": "ipython3",
   "version": "3.9.7"
  }
 },
 "nbformat": 4,
 "nbformat_minor": 5
}
