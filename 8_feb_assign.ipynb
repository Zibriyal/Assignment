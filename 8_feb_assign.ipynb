{
 "cells": [
  {
   "cell_type": "code",
   "execution_count": 1,
   "id": "6dc7e215-50e7-4d81-b30c-26484fb7c622",
   "metadata": {},
   "outputs": [],
   "source": [
    "#Q.1 Abstraction is one of the fundamental principles of Object-Oriented Programming (OOPs) that focuses on hiding the implementation details of a system or an object and only exposing the necessary information and functionalities to the outside world. It helps to simplify the complexity of a system by representing it at a higher level of abstraction.\n",
    "import abc\n",
    "class pwskills:\n",
    "    @abc.abstractmethod\n",
    "    def student_details(self):\n",
    "        pass\n",
    "    @abc.abstractmethod\n",
    "    def student_assignment(self):\n",
    "        pass\n",
    "    @abc.abstractmethod\n",
    "    def student_marks(self):\n",
    "        pass\n",
    "#pwskill class is created in that blue print is created without method and defination. for inhertung the skeleton/blueprint by abstracting method we use inbuild function import abc module and decorate the blue print with@abc.abstracmethod."
   ]
  },
  {
   "cell_type": "code",
   "execution_count": 2,
   "id": "ed19e0bc-a3f1-45f7-ac06-7c38133166d1",
   "metadata": {},
   "outputs": [],
   "source": [
    "class student_details(pwskills):\n",
    "    def student_details(self):\n",
    "        return \"this is meth for taking students details\"\n",
    "    \n",
    "    def student_assignment(self):\n",
    "        return \"this is meth for taking students assignmant\"\n",
    "#class student_detail created and call pwskills to inherit its blueprint."
   ]
  },
  {
   "cell_type": "code",
   "execution_count": 3,
   "id": "407d8604-5a4b-47b7-ae1a-71137a22f7af",
   "metadata": {},
   "outputs": [],
   "source": [
    "class data_scince_master(pwskills):\n",
    "    \n",
    "    def student_details(self):\n",
    "        return \"this will return a student details for data science masters\"\n",
    "    \n",
    "    def student_assignment(self):\n",
    "        return \"this is assignment for dsm\"\n",
    "    \n",
    "    #create obj in below cell and call variable"
   ]
  },
  {
   "cell_type": "code",
   "execution_count": 4,
   "id": "456b6163-e464-42b3-8ec9-c421d2c06ebf",
   "metadata": {},
   "outputs": [
    {
     "data": {
      "text/plain": [
       "'this will return a student details for data science masters'"
      ]
     },
     "execution_count": 4,
     "metadata": {},
     "output_type": "execute_result"
    }
   ],
   "source": [
    "dsm=data_scince_master()\n",
    "dsm.student_details()"
   ]
  },
  {
   "cell_type": "code",
   "execution_count": 5,
   "id": "28bb8c65-0426-4d97-9e4d-22bcb5b3de51",
   "metadata": {},
   "outputs": [
    {
     "data": {
      "text/plain": [
       "'this is meth for taking students assignmant'"
      ]
     },
     "execution_count": 5,
     "metadata": {},
     "output_type": "execute_result"
    }
   ],
   "source": [
    "sd=student_details()\n",
    "sd.student_assignment()"
   ]
  },
  {
   "cell_type": "code",
   "execution_count": 6,
   "id": "a36e97ce-a90f-4420-a35b-773b68bf92a7",
   "metadata": {},
   "outputs": [
    {
     "data": {
      "text/plain": [
       "'this is meth for taking students details'"
      ]
     },
     "execution_count": 6,
     "metadata": {},
     "output_type": "execute_result"
    }
   ],
   "source": [
    "sd.student_details()"
   ]
  },
  {
   "cell_type": "code",
   "execution_count": 7,
   "id": "4dcd78ee-e4f8-4f6f-ba53-db63b8027ba8",
   "metadata": {},
   "outputs": [
    {
     "name": "stdout",
     "output_type": "stream",
     "text": [
      "Balance: 1300\n"
     ]
    }
   ],
   "source": [
    "#Q.2 Abstraction is the process of focusing on essential features of an object or system, while ignoring the irrelevant details. It allows us to create a simplified model of a complex system and focus on what is important. \n",
    "#Encapsulation is the process of hiding the internal details of an object from the outside world, and only exposing a public interface that can be used to interact with the object. \n",
    "class BankAccount:\n",
    "    def __init__(self, balance):\n",
    "        self.balance = balance\n",
    "\n",
    "    def deposit(self, amount):\n",
    "        self.balance += amount\n",
    "\n",
    "    def withdraw(self, amount):\n",
    "        if self.balance >= amount:\n",
    "            self.balance -= amount\n",
    "        else:\n",
    "            print(\"Insufficient balance.\")\n",
    "\n",
    "account = BankAccount(1000)\n",
    "account.deposit(500)\n",
    "account.withdraw(200)\n",
    "print(\"Balance:\", account.balance)\n",
    "\n",
    "#In this example, we have a BankAccount class that represents a bank account. The class has two methods deposit() and withdraw() that can be used to deposit and withdraw money from the account.\n",
    "\n",
    "#Abstraction is achieved in this example by using a class to represent a bank account, which is a simplified model of a complex financial system. The BankAccount class defines a public interface that can be used to interact with the account, but it hides the internal details of the account, such as how the balance is stored and managed.\n",
    "\n",
    "#Encapsulation is achieved in this example by making the balance attribute of the BankAccount class private, by not exposing it directly through a public interface. The deposit() and withdraw() methods are used to interact with the account, and they control access to the internal state of the account."
   ]
  },
  {
   "cell_type": "code",
   "execution_count": 8,
   "id": "5c72d57c-858a-4913-971f-89e2022cce6a",
   "metadata": {},
   "outputs": [],
   "source": [
    "#Q.3 The abc module in Python provides support for abstract base classes. An abstract base class is a class that cannot be instantiated directly, but it is intended to be subclassed by other classes. The abc module provides a way to define abstract base classes and enforce that subclasses implement certain methods or attributes.\n",
    "\n",
    "#The abc module is used to implement the concept of interfaces and abstract classes in Python. Abstract classes define a set of methods that must be implemented by any concrete class that inherits from it. This ensures that the concrete class provides a consistent interface and behavior to other parts of the code that depend on it."
   ]
  },
  {
   "cell_type": "code",
   "execution_count": 13,
   "id": "ee4d1c76-427a-4dae-a81c-50f31bd64249",
   "metadata": {},
   "outputs": [],
   "source": [
    "#Q.4 Data abstraction can be achieved in object-oriented programming by creating abstract classes and interfaces that define a set of methods that a class must implement to be considered to have that interface.\n",
    "\n",
    "#Abstraction allows us to focus on the essential features of an object or system while ignoring the irrelevant details. By creating abstract classes and interfaces, we can define a set of methods that a class must implement to be considered to have that interface. This allows us to create a simplified model of a complex system and focus on what is important.\n",
    "\n",
    "#In Python, we can achieve data abstraction by using abstract base classes provided by the abc module. An abstract base class is a class that cannot be instantiated directly but is intended to be subclassed by other classes. The abc module provides a way to define abstract base classes and enforce that subclasses implement certain methods or attributes.\n",
    "import abc\n",
    "class Animal(ABC):\n",
    "    @abstractmethod\n",
    "    def move(self):\n",
    "        pass\n",
    "\n",
    "class Dog(Animal):\n",
    "    def move(self):\n",
    "        print(\"Dog is running.\")\n",
    "\n",
    "class Fish(Animal):\n",
    "    def move(self):\n",
    "        print(\"Fish is swimming.\")\n",
    "\n",
    "class Bird(Animal):\n",
    "    def move(self):\n",
    "        print(\"Bird is flying.\")\n",
    "#In this example, we have an abstract base class Animal that defines an abstract method move(). The move() method is not implemented in the abstract base class, and it must be implemented by any concrete class that inherits from it.\n",
    "\n",
    "#We then define three concrete classes Dog, Fish, and Bird, which inherit from the Animal class and implement the move() method. Each class provides a different implementation of the move() method, which demonstrates how abstraction allows us to define a consistent interface while allowing for different behaviors.\n",
    "\n",
    "#Finally, we create instances of each class and call the move() method to demonstrate that each class provides a different implementation of the method. By using an abstract base class to define a consistent interface, we achieve data abstraction and simplify the design of our program."
   ]
  },
  {
   "cell_type": "code",
   "execution_count": 14,
   "id": "4f5867d9-febc-48b9-86d6-4160b8b01940",
   "metadata": {},
   "outputs": [],
   "source": [
    "dog = Dog()\n",
    "fish = Fish()\n",
    "bird = Bird()"
   ]
  },
  {
   "cell_type": "code",
   "execution_count": 15,
   "id": "82f3252a-e95e-437f-873d-cac68e64eae9",
   "metadata": {},
   "outputs": [
    {
     "name": "stdout",
     "output_type": "stream",
     "text": [
      "Dog is running.\n",
      "Fish is swimming.\n",
      "Bird is flying.\n"
     ]
    }
   ],
   "source": [
    "dog.move() \n",
    "fish.move() \n",
    "bird.move() "
   ]
  },
  {
   "cell_type": "code",
   "execution_count": 16,
   "id": "1fa41545-3b24-4219-8773-d8bee5973d53",
   "metadata": {},
   "outputs": [
    {
     "ename": "TypeError",
     "evalue": "Can't instantiate abstract class Shape with abstract method area",
     "output_type": "error",
     "traceback": [
      "\u001b[0;31m---------------------------------------------------------------------------\u001b[0m",
      "\u001b[0;31mTypeError\u001b[0m                                 Traceback (most recent call last)",
      "Cell \u001b[0;32mIn[16], line 9\u001b[0m\n\u001b[1;32m      5\u001b[0m     \u001b[38;5;129m@abstractmethod\u001b[39m\n\u001b[1;32m      6\u001b[0m     \u001b[38;5;28;01mdef\u001b[39;00m \u001b[38;5;21marea\u001b[39m(\u001b[38;5;28mself\u001b[39m):\n\u001b[1;32m      7\u001b[0m         \u001b[38;5;28;01mpass\u001b[39;00m\n\u001b[0;32m----> 9\u001b[0m shape \u001b[38;5;241m=\u001b[39m \u001b[43mShape\u001b[49m\u001b[43m(\u001b[49m\u001b[43m)\u001b[49m \u001b[38;5;66;03m# TypeError: Can't instantiate abstract class Shape with abstract methods area\u001b[39;00m\n",
      "\u001b[0;31mTypeError\u001b[0m: Can't instantiate abstract class Shape with abstract method area"
     ]
    }
   ],
   "source": [
    "#Q.5 No, we cannot create an instance of an abstract class in Python or any other programming language that supports the concept of abstract classes. An abstract class is a class that cannot be instantiated directly but is intended to be subclassed by other classes.\n",
    "\n",
    "#In Python, we can define an abstract class using the abc module and the abstractmethod decorator. When a class defines an abstract method, it becomes an abstract class, and we cannot create an instance of that class. If we try to create an instance of an abstract class, we will get a TypeError:\n",
    "from abc import ABC, abstractmethod\n",
    "\n",
    "class Shape(ABC):\n",
    "    @abstractmethod\n",
    "    def area(self):\n",
    "        pass\n",
    "\n",
    "shape = Shape()\n"
   ]
  },
  {
   "cell_type": "code",
   "execution_count": null,
   "id": "2c74ac84-700e-4838-8991-ca0420f8d342",
   "metadata": {},
   "outputs": [],
   "source": []
  }
 ],
 "metadata": {
  "kernelspec": {
   "display_name": "Python 3 (ipykernel)",
   "language": "python",
   "name": "python3"
  },
  "language_info": {
   "codemirror_mode": {
    "name": "ipython",
    "version": 3
   },
   "file_extension": ".py",
   "mimetype": "text/x-python",
   "name": "python",
   "nbconvert_exporter": "python",
   "pygments_lexer": "ipython3",
   "version": "3.10.8"
  }
 },
 "nbformat": 4,
 "nbformat_minor": 5
}
