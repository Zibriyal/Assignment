{
 "cells": [
  {
   "cell_type": "code",
   "execution_count": 2,
   "id": "01c32a78-ad02-4d1e-859f-1e583f4d1165",
   "metadata": {},
   "outputs": [
    {
     "name": "stdout",
     "output_type": "stream",
     "text": [
      "0\n",
      "1\n",
      "2\n",
      "3\n"
     ]
    }
   ],
   "source": [
    "## Q.1 In Python, the for loop is used to run a block of code for a certain number of times. It is used to iterate over any sequences such as list, tuple, string, etc.\n",
    "# use of range() to define a range of values\n",
    "values = range(4)\n",
    "for i in values:\n",
    "    print(i)"
   ]
  },
  {
   "cell_type": "code",
   "execution_count": 3,
   "id": "9cb7e4cd-205d-40ea-8470-a586abe62e85",
   "metadata": {},
   "outputs": [
    {
     "name": "stdout",
     "output_type": "stream",
     "text": [
      "1\n",
      "2\n",
      "3\n",
      "4\n",
      "5\n"
     ]
    }
   ],
   "source": [
    "##Q.1Python while loop is used to run a block code until a certain condition is met.\n",
    "i = 1\n",
    "n = 5\n",
    "while i <= n:\n",
    "    print(i)\n",
    "    i = i + 1"
   ]
  },
  {
   "cell_type": "code",
   "execution_count": 2,
   "id": "a10e020b-106c-49f6-93e0-428c40ef3d69",
   "metadata": {},
   "outputs": [
    {
     "name": "stdout",
     "output_type": "stream",
     "text": [
      "55\n"
     ]
    }
   ],
   "source": [
    "##Q.2 For  loop sum of 10 natural numbers\n",
    "sum = 0 \n",
    "for i in range(1, 11): \n",
    "  sum += i \n",
    "print(sum)"
   ]
  },
  {
   "cell_type": "code",
   "execution_count": 3,
   "id": "a8c1b475-0b6e-4e9c-996a-ae5eb636ec96",
   "metadata": {},
   "outputs": [
    {
     "name": "stdout",
     "output_type": "stream",
     "text": [
      "The sum is 55\n"
     ]
    }
   ],
   "source": [
    "##While loop sum of 10 natural numbers\n",
    "num = 10\n",
    "\n",
    "if num < 0:\n",
    "   print(\"Enter a positive number\")\n",
    "else:\n",
    "   sum = 0\n",
    "   # use while loop to iterate until zero\n",
    "   while(num > 0):\n",
    "       sum += num\n",
    "       num -= 1\n",
    "   print(\"The sum is\", sum)"
   ]
  },
  {
   "cell_type": "code",
   "execution_count": 11,
   "id": "dd6a0412-b30b-4a13-bf5d-f3d79897e186",
   "metadata": {},
   "outputs": [
    {
     "name": "stdin",
     "output_type": "stream",
     "text": [
      "enter the number:\n",
      "= 10\n"
     ]
    },
    {
     "name": "stdout",
     "output_type": "stream",
     "text": [
      "product of 'n' natural numbers: 3628800\n"
     ]
    }
   ],
   "source": [
    "##product of 10 natural number by for loop\n",
    "n=int(input(\"enter the number:\\n=\"))\n",
    "prod=1\n",
    "for i in range(1,n+1):\n",
    "    prod=prod*i\n",
    "print(\"product of 'n' natural numbers:\",prod)"
   ]
  },
  {
   "cell_type": "code",
   "execution_count": 14,
   "id": "6fbd2ab1-8074-47a0-8fd4-13330f592e9f",
   "metadata": {},
   "outputs": [
    {
     "name": "stdin",
     "output_type": "stream",
     "text": [
      "enter the number 10\n"
     ]
    },
    {
     "name": "stdout",
     "output_type": "stream",
     "text": [
      "the product is : 3628800\n"
     ]
    }
   ],
   "source": [
    "##product of 10 natural number by while loop\n",
    "number = int(input(\"enter the number\"))\n",
    "product=1\n",
    "i=1\n",
    "while i<=number:\n",
    "    product=product*i\n",
    "    i=i+1\n",
    "print(\"the product is :\",product)"
   ]
  },
  {
   "cell_type": "code",
   "execution_count": 4,
   "id": "0d44efe6-6452-4f77-b72e-29d0b5344367",
   "metadata": {},
   "outputs": [
    {
     "name": "stdin",
     "output_type": "stream",
     "text": [
      "Enter your unit:  320\n"
     ]
    },
    {
     "name": "stdout",
     "output_type": "stream",
     "text": [
      "the user will be charged Rs. 2250\n"
     ]
    }
   ],
   "source": [
    "##Q.3\n",
    "unit = int(input(\"Enter your unit: \"))\n",
    "if unit <= 100:\n",
    "    print(\"the user will be charged Rs. 4.5 per unit\" )\n",
    "elif unit >= 101 and unit <= 200:\n",
    "    print(\"the user will be charged Rs. 6 per unit\" )\n",
    "elif unit >= 201 and unit <= 300:\n",
    "    print(\"the user will be charged Rs. 10 per unit\" )\n",
    "elif unit >=301 and unit<=319:\n",
    "    print(\"the user will be charged Rs. 20 per unit\" )\n",
    "else:\n",
    "    print(\"the user will be charged Rs. 2250\" )"
   ]
  },
  {
   "cell_type": "code",
   "execution_count": 1,
   "id": "bba758cd-a6f2-40bd-be18-a9aacced5eea",
   "metadata": {},
   "outputs": [
    {
     "name": "stdout",
     "output_type": "stream",
     "text": [
      "[64, 125, 512, 1000, 1728, 3375, 4096, 8000, 13824, 15625, 21952, 27000, 32768, 42875, 46656, 64000, 85184, 91125, 110592, 125000, 140608, 166375, 175616, 216000, 262144, 274625, 314432, 343000, 373248, 421875, 438976, 512000, 592704, 614125, 681472, 729000, 778688, 857375, 884736, 1000000]\n"
     ]
    }
   ],
   "source": [
    "##Q.4\n",
    "x=[] \n",
    "for i in range(1,101):\n",
    "    if i % 4 == 0 or i % 5==0:\n",
    "\t    x.append(i**3)\n",
    "else:\n",
    "    print(x)\n"
   ]
  },
  {
   "cell_type": "code",
   "execution_count": 15,
   "id": "c6715dbb-ab73-4c8a-b6d0-e2152ae44d93",
   "metadata": {},
   "outputs": [
    {
     "name": "stdout",
     "output_type": "stream",
     "text": [
      "Vowels :  ['a', 'o', 'e', 'o', 'e', 'a', 'a', 'a', 'i', 'e', 'i']\n",
      "No of Vowels :  11\n"
     ]
    }
   ],
   "source": [
    "##Q.5 \n",
    "a=list(\"I want to become a data scientist\")\n",
    "def vowel(x):\n",
    "    v=('a','e','i','o','u')\n",
    "    return x in v\n",
    "\n",
    "b=list(filter(vowel,a))\n",
    "print(\"Vowels : \",b)\n",
    "print(\"No of Vowels : \",len(b))"
   ]
  },
  {
   "cell_type": "code",
   "execution_count": null,
   "id": "1865a480-bfda-45a7-b32a-b11f0985c884",
   "metadata": {},
   "outputs": [],
   "source": []
  }
 ],
 "metadata": {
  "kernelspec": {
   "display_name": "Python 3 (ipykernel)",
   "language": "python",
   "name": "python3"
  },
  "language_info": {
   "codemirror_mode": {
    "name": "ipython",
    "version": 3
   },
   "file_extension": ".py",
   "mimetype": "text/x-python",
   "name": "python",
   "nbconvert_exporter": "python",
   "pygments_lexer": "ipython3",
   "version": "3.10.8"
  }
 },
 "nbformat": 4,
 "nbformat_minor": 5
}
