{
 "cells": [
  {
   "cell_type": "code",
   "execution_count": 3,
   "id": "fd3b1a7d",
   "metadata": {},
   "outputs": [
    {
     "name": "stdout",
     "output_type": "stream",
     "text": [
      "enter your percentage95\n",
      "you have got  grade 'A'\n"
     ]
    }
   ],
   "source": [
    " #QUESTION 1\n",
    "percentage=int(input(\"enter your percentage\"))\n",
    "if percentage>=90:\n",
    "    print(\"you have got  grade 'A'\")\n",
    "elif percentage>80 and percentage<=90:\n",
    "        print(\"you have got grade 'B'\")\n",
    "elif percentage>=60 and percentage<=80:\n",
    "    print(\"you have got grade 'C'\")\n",
    "else :\n",
    "    print(\"you have got grade 'D'\")\n",
    "        \n",
    "    "
   ]
  },
  {
   "cell_type": "code",
   "execution_count": 4,
   "id": "3fc98ffa",
   "metadata": {},
   "outputs": [
    {
     "name": "stdout",
     "output_type": "stream",
     "text": [
      "enter cost price of a bike75000\n",
      "10% Road tax to be paid\n"
     ]
    }
   ],
   "source": [
    "#Q.2\n",
    "price=int(input(\"enter cost price of a bike\"))\n",
    "if price>100000:\n",
    "    print(\"15% Road tax to be paid\")\n",
    "elif price>50000 and price<=100000:\n",
    "        print(\"10% Road tax to be paid\")\n",
    "elif price<=50000:\n",
    "    print(\"5% Road tax to be paid\")\n"
   ]
  },
  {
   "cell_type": "code",
   "execution_count": 6,
   "id": "bf1cbb34",
   "metadata": {},
   "outputs": [
    {
     "name": "stdout",
     "output_type": "stream",
     "text": [
      "enter name of cityDelhi\n",
      " Monument is Red fort\n"
     ]
    }
   ],
   "source": [
    "#Q.3\n",
    "city=input(\"enter name of city\")\n",
    "if city==\"Delhi\":\n",
    "    print(\" Monument is Red fort\")\n",
    "elif city==\"Agra\":\n",
    "    print(\"Monument is Taj mahal\")\n",
    "elif city==\"Jaipur\":\n",
    "    print(\"Monument is jal mahal\")"
   ]
  },
  {
   "cell_type": "code",
   "execution_count": 1,
   "id": "e444b9ea",
   "metadata": {},
   "outputs": [
    {
     "name": "stdout",
     "output_type": "stream",
     "text": [
      "1\n",
      "2\n",
      "3\n",
      "4\n",
      "5\n",
      "6\n",
      "7\n",
      "8\n",
      "9\n",
      "10\n"
     ]
    }
   ],
   "source": [
    "#Q5.A \"While\" Loop is used to repeat a specific block of code an unknown number of times, until a condition is met. For example, \n",
    "#if we want to ask a user for a number between 1 and 10, we don't know how many times the user may enter a larger number, \n",
    "#so we keep asking \"while the number is not between 1 and 10\".\n",
    "# program to display numbers from 1 to 10\n",
    "i = 1\n",
    "\n",
    "while i <= 10:\n",
    "    print(i)\n",
    "    i = i + 1\n"
   ]
  },
  {
   "cell_type": "code",
   "execution_count": 3,
   "id": "bf922d2e",
   "metadata": {},
   "outputs": [
    {
     "name": "stdout",
     "output_type": "stream",
     "text": [
      "1 \n",
      "1 2 \n",
      "1 2 3 \n",
      "1 2 3 4 \n",
      "1 2 3 4 5 \n"
     ]
    }
   ],
   "source": [
    "#Q6\n",
    "i=1\n",
    "while i<=5:\n",
    "    j=1\n",
    "    while j<=i:\n",
    "        print(j,end=\" \")\n",
    "        j=j+1\n",
    "    print(\"\")\n",
    "    i=i+1"
   ]
  },
  {
   "cell_type": "code",
   "execution_count": 2,
   "id": "3b9dba30",
   "metadata": {},
   "outputs": [
    {
     "name": "stdout",
     "output_type": "stream",
     "text": [
      "10\n",
      "9\n",
      "8\n",
      "7\n",
      "6\n",
      "5\n",
      "4\n",
      "3\n",
      "2\n",
      "1\n"
     ]
    }
   ],
   "source": [
    "#Q 7& 8\n",
    "num_List=[1,2,3,4,5,6,7,8,9,10]\n",
    "i = len(num_List) - 1 \n",
    "\n",
    "    \n",
    "while i >= 0 :\n",
    "    \n",
    "        \n",
    "    print(num_List[i])\n",
    "\n",
    "        \n",
    "    i -= 1"
   ]
  },
  {
   "cell_type": "code",
   "execution_count": null,
   "id": "3cfaedf2",
   "metadata": {},
   "outputs": [],
   "source": []
  }
 ],
 "metadata": {
  "kernelspec": {
   "display_name": "Python 3 (ipykernel)",
   "language": "python",
   "name": "python3"
  },
  "language_info": {
   "codemirror_mode": {
    "name": "ipython",
    "version": 3
   },
   "file_extension": ".py",
   "mimetype": "text/x-python",
   "name": "python",
   "nbconvert_exporter": "python",
   "pygments_lexer": "ipython3",
   "version": "3.9.7"
  }
 },
 "nbformat": 4,
 "nbformat_minor": 5
}
