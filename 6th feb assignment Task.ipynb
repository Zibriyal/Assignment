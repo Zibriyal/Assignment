{
 "cells": [
  {
   "cell_type": "code",
   "execution_count": 3,
   "id": "766c05a6",
   "metadata": {},
   "outputs": [
    {
     "name": "stdout",
     "output_type": "stream",
     "text": [
      "The Product of list1 is : 0\n"
     ]
    }
   ],
   "source": [
    "#Q.1 answer\n",
    "\n",
    "def product_of_flat_list(input_list):\n",
    "    flat_list = []\n",
    "\n",
    "    def flatten(lst):\n",
    "        for item in lst:\n",
    "            if isinstance(item, (list, tuple, set)):\n",
    "                flatten(item)\n",
    "            elif isinstance(item, dict):\n",
    "                flatten(item.keys())\n",
    "                flatten(item.values())\n",
    "            elif isinstance(item, (int, float)):\n",
    "                flat_list.append(item)\n",
    "\n",
    "    flatten(input_list)\n",
    "\n",
    "    result = 1\n",
    "    for num in flat_list:\n",
    "        result *= num\n",
    "\n",
    "    return result\n",
    "\n",
    "# Example usage\n",
    "list1 = [1, 2, 3, 4, [44, 55, 66, True], False, (34, 56, 78, 89, 34), {1, 2, 3, 3, 2, 1},\n",
    "         {1: 34, \"key2\": [55, 67, 78, 89], 4: (45, 22, 61, 34)}, [56, 'data science'], 'Machine Learning']\n",
    "\n",
    "result = product_of_flat_list(list1)\n",
    "print(\"The Product of list1 is :\",result)\n"
   ]
  },
  {
   "cell_type": "code",
   "execution_count": 4,
   "id": "0526764d",
   "metadata": {},
   "outputs": [
    {
     "name": "stdout",
     "output_type": "stream",
     "text": [
      "Encrypted Message: r$dzmg$gl$yvxlnv$z$wzgz$hxrvmgrhg.\n"
     ]
    }
   ],
   "source": [
    "#Q.2 answer\n",
    "def encrypt_message(message):\n",
    "    encrypted_text = \"\"\n",
    "\n",
    "    for char in message:\n",
    "        if char.isalpha():\n",
    "            encrypted_char = chr(ord('a') + (ord('z') - ord(char.lower())))\n",
    "            encrypted_text += encrypted_char\n",
    "        elif char.isspace():\n",
    "            encrypted_text += '$'\n",
    "        else:\n",
    "            encrypted_text += char\n",
    "\n",
    "    return encrypted_text\n",
    "\n",
    "input_sentence = \"I want to become a Data Scientist.\"\n",
    "input_sentence_lower = input_sentence.lower()\n",
    "encrypted_result = encrypt_message(input_sentence_lower)\n",
    "print(\"Encrypted Message:\", encrypted_result)\n"
   ]
  },
  {
   "cell_type": "code",
   "execution_count": null,
   "id": "d490996b",
   "metadata": {},
   "outputs": [],
   "source": []
  }
 ],
 "metadata": {
  "kernelspec": {
   "display_name": "Python 3 (ipykernel)",
   "language": "python",
   "name": "python3"
  },
  "language_info": {
   "codemirror_mode": {
    "name": "ipython",
    "version": 3
   },
   "file_extension": ".py",
   "mimetype": "text/x-python",
   "name": "python",
   "nbconvert_exporter": "python",
   "pygments_lexer": "ipython3",
   "version": "3.9.7"
  }
 },
 "nbformat": 4,
 "nbformat_minor": 5
}
