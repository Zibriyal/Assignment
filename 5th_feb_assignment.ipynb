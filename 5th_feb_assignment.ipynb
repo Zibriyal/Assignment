{
 "cells": [
  {
   "cell_type": "code",
   "execution_count": 2,
   "id": "e6f4da70-433a-433c-aa03-2a6f5d478870",
   "metadata": {},
   "outputs": [],
   "source": [
    "#Q.1In object-oriented programming, a class is a blueprint or a template that defines the attributes and behaviors of a certain type of object. \n",
    "#An object, on the other hand, is an instance of a class. It can be thought of as a concrete realization of the class's blueprint, with its own set of values for its attributes and its own behavior.\n",
    "class pwskills2:\n",
    "    def __init__(imr,phone_no,email_id,student_id):\n",
    "        imr.phone_no1=phone_no\n",
    "        imr.email_id1=email_id\n",
    "        imr.student_id1=student_id\n",
    "        \n",
    "    def return_student_details1(imr):\n",
    "        return imr.phone_no1,  imr.email_id1, imr.student_id1  "
   ]
  },
  {
   "cell_type": "code",
   "execution_count": 3,
   "id": "0fc8dbb6-78cb-4ca1-81b2-d656a70f1a7d",
   "metadata": {},
   "outputs": [],
   "source": [
    "#creating an object for the class pwskills2\n",
    "imran=pwskills2(846640466786,\"Imr@hotmail.com\",786)"
   ]
  },
  {
   "cell_type": "code",
   "execution_count": 4,
   "id": "0a05ef8c-abae-4934-91c6-c5bbbe17b93e",
   "metadata": {},
   "outputs": [
    {
     "data": {
      "text/plain": [
       "(846640466786, 'Imr@hotmail.com', 786)"
      ]
     },
     "execution_count": 4,
     "metadata": {},
     "output_type": "execute_result"
    }
   ],
   "source": [
    "imran.return_student_details1()"
   ]
  },
  {
   "cell_type": "code",
   "execution_count": 5,
   "id": "47232fa3-9eae-428a-9a2b-ed182a727495",
   "metadata": {},
   "outputs": [],
   "source": [
    "#Q.2The four pillars of Object-Oriented Programming (OOPs) are:\n",
    "#1)Encapsulation 2)Inheritance  3)Polymorphism 4)Abstraction #"
   ]
  },
  {
   "cell_type": "code",
   "execution_count": 9,
   "id": "fae524b7-b3c4-43f2-b855-a1745fcfa4c3",
   "metadata": {},
   "outputs": [
    {
     "name": "stdout",
     "output_type": "stream",
     "text": [
      "Salman_Khan\n",
      "57\n"
     ]
    }
   ],
   "source": [
    "#Q.3The __init__() function is a special method used in Python classes to initialize an object's attributes when it is created. It is known as a constructor method because it is called automatically when an object is instantiated from a class.\n",
    "\n",
    "#The primary purpose of __init__() is to set the initial values of an object's attributes. By setting the attributes within __init__(), we ensure that every object created from the class will have the same attributes and their initial values.\n",
    "class Person:\n",
    "  def __init__(self, name, age):\n",
    "    self.name = name\n",
    "    self.age = age\n",
    "\n",
    "p1 = Person(\"Salman_Khan\", 57)\n",
    "\n",
    "print(p1.name)\n",
    "print(p1.age)"
   ]
  },
  {
   "cell_type": "code",
   "execution_count": 10,
   "id": "bbf729f3-b47e-40a4-bcf0-7c9775d684ff",
   "metadata": {},
   "outputs": [],
   "source": [
    "#Q.4 #In Object-Oriented Programming (OOPs), self is a reference to the current instance of a class. It is a special parameter used in instance methods and refers to the object that is calling the method.\n",
    "\n",
    "#When a method is called on an object, Python automatically passes the object as the first argument to the method, which is referred to as self. By using self, we can access the object's attributes and methods within the class."
   ]
  },
  {
   "cell_type": "code",
   "execution_count": 1,
   "id": "1f8e11e3-ee62-4aac-9a18-780a8dca3004",
   "metadata": {},
   "outputs": [
    {
     "name": "stdout",
     "output_type": "stream",
     "text": [
      "Tommy\n",
      "Woof!\n"
     ]
    }
   ],
   "source": [
    "#Q.5 Inheritance is a fundamental concept in Object-Oriented Programming (OOP) that allows a new class to be based on an existing class, inheriting its attributes and methods. Inheritance enables us to create a hierarchy of classes that share common attributes and methods, with the added ability to customize or extend the functionality of a base class.\n",
    "#1 single inheritance\n",
    "class Animal:\n",
    "    def __init__(self, name):\n",
    "        self.name = name\n",
    "\n",
    "    def speak(self):\n",
    "        raise NotImplementedError(\"Subclass must implement abstract method\")\n",
    "\n",
    "class Dog(Animal):\n",
    "    def speak(self):\n",
    "        return \"Woof!\"\n",
    "\n",
    "my_dog = Dog(\"Tommy\")\n",
    "print(my_dog.name)\n",
    "print(my_dog.speak())\n"
   ]
  },
  {
   "cell_type": "code",
   "execution_count": 9,
   "id": "e37fef66-aecc-463e-81b5-3e8491884089",
   "metadata": {},
   "outputs": [
    {
     "name": "stdout",
     "output_type": "stream",
     "text": [
      "Tesla\n",
      "Model S\n",
      "2022\n",
      "100\n"
     ]
    }
   ],
   "source": [
    "#Multiple inheritance\n",
    "class Car:\n",
    "    def __init__(self, make, model, year):\n",
    "        self.make = make\n",
    "        self.model = model\n",
    "        self.year = year\n",
    "\n",
    "class Electric:\n",
    "    def __init__(self, battery_size):\n",
    "        self.battery_size = battery_size\n",
    "\n",
    "class ElectricCar(Car, Electric):\n",
    "    def __init__(self, make, model, year, battery_size):\n",
    "        Car.__init__(self, make, model, year)\n",
    "        Electric.__init__(self, battery_size)\n",
    "\n",
    "my_electric_car = ElectricCar(\"Tesla\", \"Model S\", 2022, 100) \n",
    "print(my_electric_car.make)\n",
    "print(my_electric_car.model)\n",
    "print(my_electric_car.year)\n",
    "print(my_electric_car.battery_size)\n"
   ]
  },
  {
   "cell_type": "code",
   "execution_count": 10,
   "id": "e81ee6dc-dfed-4016-aba6-f0d42c14e95b",
   "metadata": {},
   "outputs": [],
   "source": [
    "#Multi level inheritance\n",
    "class class1:\n",
    "    def test_class1(self):\n",
    "        return \"this is my meth class 1\""
   ]
  },
  {
   "cell_type": "code",
   "execution_count": 11,
   "id": "ae6c0d39-c9c6-4bee-a5be-9747463df90c",
   "metadata": {},
   "outputs": [],
   "source": [
    "class class2(class1):\n",
    "    def test_class2(self):\n",
    "        return \"this is my meth class2\""
   ]
  },
  {
   "cell_type": "code",
   "execution_count": 12,
   "id": "500f994d-fec0-498b-bc52-3b5eb239b579",
   "metadata": {},
   "outputs": [],
   "source": [
    "class class3(class2):\n",
    "    pass"
   ]
  },
  {
   "cell_type": "code",
   "execution_count": 13,
   "id": "e980c9ea-17b7-4a4f-a255-89f1e18397b9",
   "metadata": {},
   "outputs": [
    {
     "data": {
      "text/plain": [
       "'this is my meth class 1'"
      ]
     },
     "execution_count": 13,
     "metadata": {},
     "output_type": "execute_result"
    }
   ],
   "source": [
    "obj_class3=class3()\n",
    "obj_class3.test_class1()"
   ]
  },
  {
   "cell_type": "code",
   "execution_count": 14,
   "id": "15856b76-3270-427d-85a1-04f667b306ec",
   "metadata": {},
   "outputs": [
    {
     "data": {
      "text/plain": [
       "'this is my meth class2'"
      ]
     },
     "execution_count": 14,
     "metadata": {},
     "output_type": "execute_result"
    }
   ],
   "source": [
    "obj_class3.test_class2()"
   ]
  },
  {
   "cell_type": "code",
   "execution_count": null,
   "id": "f9fadfbf-08c9-4f6f-bff2-5f312e88f276",
   "metadata": {},
   "outputs": [],
   "source": []
  }
 ],
 "metadata": {
  "kernelspec": {
   "display_name": "Python 3 (ipykernel)",
   "language": "python",
   "name": "python3"
  },
  "language_info": {
   "codemirror_mode": {
    "name": "ipython",
    "version": 3
   },
   "file_extension": ".py",
   "mimetype": "text/x-python",
   "name": "python",
   "nbconvert_exporter": "python",
   "pygments_lexer": "ipython3",
   "version": "3.10.8"
  }
 },
 "nbformat": 4,
 "nbformat_minor": 5
}
